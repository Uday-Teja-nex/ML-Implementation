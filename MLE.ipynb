{
  "nbformat": 4,
  "nbformat_minor": 0,
  "metadata": {
    "colab": {
      "provenance": [],
      "include_colab_link": true
    },
    "kernelspec": {
      "name": "python3",
      "display_name": "Python 3"
    },
    "language_info": {
      "name": "python"
    }
  },
  "cells": [
    {
      "cell_type": "markdown",
      "metadata": {
        "id": "view-in-github",
        "colab_type": "text"
      },
      "source": [
        "<a href=\"https://colab.research.google.com/github/appleissteve1976/ML-Implementation/blob/main/MLE.ipynb\" target=\"_parent\"><img src=\"https://colab.research.google.com/assets/colab-badge.svg\" alt=\"Open In Colab\"/></a>"
      ]
    },
    {
      "cell_type": "code",
      "source": [
        "import numpy as np\n",
        "import pandas as pd"
      ],
      "metadata": {
        "id": "cCM22ZQd_gI4"
      },
      "execution_count": null,
      "outputs": []
    },
    {
      "cell_type": "code",
      "source": [
        "pd.options.display.float_format = '{:.5f}'.format\n",
        "\n",
        "%precision 5"
      ],
      "metadata": {
        "id": "6kOW7cpwdJsb",
        "outputId": "7efd0276-3695-4dcb-9f2b-328a58746eee",
        "colab": {
          "base_uri": "https://localhost:8080/",
          "height": 36
        }
      },
      "execution_count": null,
      "outputs": [
        {
          "output_type": "execute_result",
          "data": {
            "text/plain": [
              "'%.5f'"
            ],
            "application/vnd.google.colaboratory.intrinsic+json": {
              "type": "string"
            }
          },
          "metadata": {},
          "execution_count": 2
        }
      ]
    },
    {
      "cell_type": "code",
      "source": [
        "X = np.array([(-1.5),(-1),(-0.5),(0.5),(1),(1.5)])"
      ],
      "metadata": {
        "id": "AbjYEZHCA2p4"
      },
      "execution_count": null,
      "outputs": []
    },
    {
      "cell_type": "code",
      "source": [
        "def init():\n",
        "    return np.array([-0.667,0.667, 0.722, 0.722, 0.5, 0.5])\n",
        "\n",
        "theta_0 = init()"
      ],
      "metadata": {
        "id": "VutwHt8v-DgS"
      },
      "execution_count": null,
      "outputs": []
    },
    {
      "cell_type": "code",
      "source": [
        "def gaussian(x, mu, sigma):\n",
        "    den = np.sqrt(2 * np.pi) * sigma\n",
        "    num = np.exp(-(x - mu) ** 2 / (2 * sigma ** 2))\n",
        "    return num / den\n",
        "\n",
        "def estep(theta, X):\n",
        "    n = X.shape[0]\n",
        "    K = theta.shape[0] // 3\n",
        "    mu, sigma, pi = theta[: K],\\\n",
        "                       np.sqrt(theta[K: 2 * K]),\\\n",
        "                       theta[2 * K: ]\n",
        "    lamb = np.zeros((n, K))\n",
        "    for i in range(n):\n",
        "        x = X[i]\n",
        "        evidence = sum([pi[k] * gaussian(x, mu[k], sigma[k])\n",
        "                        for k in range(K)])\n",
        "        for k in range(K):\n",
        "            prior = pi[k]\n",
        "            likelihood = gaussian(x, mu[k], sigma[k])\n",
        "            lamb[i][k] = prior * likelihood / evidence\n",
        "    return lamb"
      ],
      "metadata": {
        "id": "HdOY26rpG8GT"
      },
      "execution_count": null,
      "outputs": []
    },
    {
      "cell_type": "code",
      "source": [
        "def mstep(lamb, X):\n",
        "    n, K = lamb.shape\n",
        "    mu = np.zeros(K)\n",
        "    var = np.zeros(K)\n",
        "    pi = np.zeros(K)\n",
        "    for k in range(K):\n",
        "        mu[k] = (X * lamb[:, k]).sum() / lamb[:, k].sum()\n",
        "        var[k] = (((X - mu[k]) ** 2) * lamb[:, k]).sum() / lamb[:, k].sum()\n",
        "        pi[k] = lamb[:, k].sum() / n\n",
        "    return np.concatenate([mu, var, pi])"
      ],
      "metadata": {
        "id": "RkLjRl9eG7-o"
      },
      "execution_count": null,
      "outputs": []
    },
    {
      "cell_type": "code",
      "source": [
        "theta_k = theta_0\n",
        "theta_k_1 = np.zeros(6)\n",
        "\n",
        "for k in range(8):\n",
        "  lamb_k = estep(theta_k, X)\n",
        "  theta_k_1 = theta_k\n",
        "  theta_k = mstep(lamb_k, X)\n",
        "  print(\"\\nlambda-\"+str(k+1)+\":\")\n",
        "  print(pd.DataFrame(data=lamb_k.T,columns=[1,2,3,4,5,6],index=[1,2]))\n",
        "  print(\"\\ntheta-\"+str(k+1)+\": \"+str(theta_k))\n",
        "  print(\"\\nnorm(theta_k - theta_k-1): \"+str(np.round(np.linalg.norm(theta_k - theta_k_1),5)))\n",
        "  print('-' * 70)"
      ],
      "metadata": {
        "colab": {
          "base_uri": "https://localhost:8080/"
        },
        "id": "wqxlyOFOG77g",
        "outputId": "c7134e6e-4b8b-422a-baea-0482adacafa0"
      },
      "execution_count": null,
      "outputs": [
        {
          "output_type": "stream",
          "name": "stdout",
          "text": [
            "\n",
            "lambda-1:\n",
            "        1       2       3       4       5       6\n",
            "1 0.94111 0.86385 0.71582 0.28418 0.13615 0.05889\n",
            "2 0.05889 0.13615 0.28418 0.71582 0.86385 0.94111\n",
            "\n",
            "theta-1: [-0.75562  0.75562  0.5957   0.5957   0.5      0.5    ]\n",
            "\n",
            "norm(theta_k - theta_k-1): 0.2182\n",
            "----------------------------------------------------------------------\n",
            "\n",
            "lambda-2:\n",
            "        1       2       3       4       5       6\n",
            "1 0.97823 0.92669 0.78048 0.21952 0.07331 0.02177\n",
            "2 0.02177 0.07331 0.21952 0.78048 0.92669 0.97823\n",
            "\n",
            "theta-2: [-0.85619  0.85619  0.43361  0.43361  0.5      0.5    ]\n",
            "\n",
            "norm(theta_k - theta_k-1): 0.26976\n",
            "----------------------------------------------------------------------\n",
            "\n",
            "lambda-3:\n",
            "        1       2       3       4       5       6\n",
            "1 0.99733 0.98109 0.87810 0.12190 0.01891 0.00267\n",
            "2 0.00267 0.01891 0.12190 0.87810 0.98109 0.99733\n",
            "\n",
            "theta-3: [-0.94409  0.94409  0.27536  0.27536  0.5      0.5    ]\n",
            "\n",
            "norm(theta_k - theta_k-1): 0.25602\n",
            "----------------------------------------------------------------------\n",
            "\n",
            "lambda-4:\n",
            "        1       2       3       4       5       6\n",
            "1 0.99997 0.99895 0.96859 0.03141 0.00105 0.00003\n",
            "2 0.00003 0.00105 0.03141 0.96859 0.99895 0.99997\n",
            "\n",
            "theta-4: [-0.98879  0.98879  0.18895  0.18895  0.5      0.5    ]\n",
            "\n",
            "norm(theta_k - theta_k-1): 0.13758\n",
            "----------------------------------------------------------------------\n",
            "\n",
            "lambda-5:\n",
            "        1       2       3       4       5       6\n",
            "1 1.00000 0.99997 0.99469 0.00531 0.00003 0.00000\n",
            "2 0.00000 0.00003 0.00531 0.99469 0.99997 1.00000\n",
            "\n",
            "theta-5: [-0.99821  0.99821  0.17024  0.17024  0.5      0.5    ]\n",
            "\n",
            "norm(theta_k - theta_k-1): 0.02962\n",
            "----------------------------------------------------------------------\n",
            "\n",
            "lambda-6:\n",
            "        1       2       3       4       5       6\n",
            "1 1.00000 0.99999 0.99717 0.00283 0.00001 0.00000\n",
            "2 0.00000 0.00001 0.00283 0.99717 0.99999 1.00000\n",
            "\n",
            "theta-6: [-0.99905  0.99905  0.16857  0.16857  0.5      0.5    ]\n",
            "\n",
            "norm(theta_k - theta_k-1): 0.00265\n",
            "----------------------------------------------------------------------\n",
            "\n",
            "lambda-7:\n",
            "        1       2       3       4       5       6\n",
            "1 1.00000 0.99999 0.99734 0.00266 0.00001 0.00000\n",
            "2 0.00000 0.00001 0.00266 0.99734 0.99999 1.00000\n",
            "\n",
            "theta-7: [-0.99911  0.99911  0.16845  0.16845  0.5      0.5    ]\n",
            "\n",
            "norm(theta_k - theta_k-1): 0.00018\n",
            "----------------------------------------------------------------------\n",
            "\n",
            "lambda-8:\n",
            "        1       2       3       4       5       6\n",
            "1 1.00000 0.99999 0.99735 0.00265 0.00001 0.00000\n",
            "2 0.00000 0.00001 0.00265 0.99735 0.99999 1.00000\n",
            "\n",
            "theta-8: [-0.99911  0.99911  0.16844  0.16844  0.5      0.5    ]\n",
            "\n",
            "norm(theta_k - theta_k-1): 1e-05\n",
            "----------------------------------------------------------------------\n"
          ]
        }
      ]
    }
  ]
}