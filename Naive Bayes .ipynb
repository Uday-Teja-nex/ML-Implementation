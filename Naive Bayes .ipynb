{
  "cells": [
    {
      "cell_type": "markdown",
      "metadata": {
        "id": "view-in-github",
        "colab_type": "text"
      },
      "source": [
        "<a href=\"https://colab.research.google.com/github/appleissteve1976/ML-Implementation/blob/main/Naive%20Bayes%20.ipynb\" target=\"_parent\"><img src=\"https://colab.research.google.com/assets/colab-badge.svg\" alt=\"Open In Colab\"/></a>"
      ]
    },
    {
      "cell_type": "markdown",
      "metadata": {
        "id": "7mcb6N5dW75g"
      },
      "source": [
        "# Naive Bayes and Gaussian Naive Bayes Algorithm"
      ],
      "id": "7mcb6N5dW75g"
    },
    {
      "cell_type": "markdown",
      "id": "125bea31-a785-4a66-809e-ad34d08e5fb2",
      "metadata": {
        "id": "125bea31-a785-4a66-809e-ad34d08e5fb2"
      },
      "source": [
        "## Introduction to Naive Bayes Algorithm\n",
        "\n",
        "The Naive Bayes algorithm is a classification technique based on Bayes' theorem with the assumption of independence between every pair of features. This notebook demonstrates the implementation of the Naive Bayes algorithm on a binary dataset and introduces the concept of Laplace Smoothing to avoid zero probability estimates."
      ]
    },
    {
      "cell_type": "markdown",
      "metadata": {
        "id": "XHDKpwhiW75h"
      },
      "source": [
        "### Dataset Description\n",
        "\n",
        "The dataset consists of `n` binary feature vectors $\\{\\mathbf{x}_{1} ,\\dotsc ,\\mathbf{x}_{n} \\}$, where each feature vector $\\mathbf{x}_{i} \\in \\{0,1\\}^{d}$, and their corresponding labels $\\{y_{1} ,\\dotsc ,y_{n} \\}$, where each label $y_{i} \\in \\{0,1\\}$.\n",
        "\n",
        "Here's a representation of the dataset:\n",
        "\n",
        "\\begin{equation*}\n",
        "\\mathbf{X} =\\begin{bmatrix}\n",
        "1 & 1 & 0 & 0\\\\\n",
        "0 & 1 & 0 & 1\\\\\n",
        "0 & 0 & 0 & 1\n",
        "\\end{bmatrix} \\quad \\mathbf{y} \\ =\\ \\begin{bmatrix}\n",
        "1\\\\\n",
        "1\\\\\n",
        "0\\\\\n",
        "0\n",
        "\\end{bmatrix}\n",
        "\\end{equation*}"
      ],
      "id": "XHDKpwhiW75h"
    },
    {
      "cell_type": "markdown",
      "metadata": {
        "id": "nC1bI6fzW75h"
      },
      "source": [
        "We can represent this dataset in Python as follows:"
      ],
      "id": "nC1bI6fzW75h"
    },
    {
      "cell_type": "code",
      "execution_count": null,
      "id": "b70033a8-785b-41f2-a8bf-7f99d6d5d71c",
      "metadata": {
        "id": "b70033a8-785b-41f2-a8bf-7f99d6d5d71c"
      },
      "outputs": [],
      "source": [
        "import numpy as np\n",
        "\n",
        "X = np.array([[1,0,0],[1,1,0],[0,0,0],[0,1,1]]).T\n",
        "y = np.array([1,1,0,0])"
      ]
    },
    {
      "cell_type": "code",
      "execution_count": null,
      "id": "95ae2efa-cc3d-49f5-94bb-da788ed94195",
      "metadata": {
        "id": "95ae2efa-cc3d-49f5-94bb-da788ed94195",
        "outputId": "6b27aa7b-c56b-4a7a-aba7-e0703e30c991"
      },
      "outputs": [
        {
          "data": {
            "text/plain": [
              "(array([[1, 1, 0, 0],\n",
              "        [0, 1, 0, 1],\n",
              "        [0, 0, 0, 1]]),\n",
              " array([1, 1, 0, 0]))"
            ]
          },
          "execution_count": 2,
          "metadata": {},
          "output_type": "execute_result"
        }
      ],
      "source": [
        "X, y"
      ]
    },
    {
      "cell_type": "markdown",
      "id": "266a36aa-cc86-4452-abc2-eccb582adba2",
      "metadata": {
        "id": "266a36aa-cc86-4452-abc2-eccb582adba2"
      },
      "source": [
        "### Laplace Smoothing\n",
        "\n",
        "In some cases, estimating the Gaussian Mixture Model (GMM) parameters for our dataset may result in parameters with zero values. To avoid this, we apply Laplace Smoothing."
      ]
    },
    {
      "cell_type": "code",
      "execution_count": null,
      "id": "5062f66f-1209-494e-a8ac-07b54a22b29e",
      "metadata": {
        "id": "5062f66f-1209-494e-a8ac-07b54a22b29e"
      },
      "outputs": [],
      "source": [
        "X = np.hstack((X, np.array([[1,1,1],[1,1,1],[0,0,0],[0,0,0]]).T))\n",
        "y = np.hstack((y.T, np.array([1,0,1,0])))"
      ]
    },
    {
      "cell_type": "code",
      "execution_count": null,
      "id": "cbf91af2-955e-4eca-8242-29e7b9b09353",
      "metadata": {
        "id": "cbf91af2-955e-4eca-8242-29e7b9b09353",
        "outputId": "442e7bb7-e7c2-46e5-b2a1-200673c9730b"
      },
      "outputs": [
        {
          "data": {
            "text/plain": [
              "(array([[1, 1, 0, 0, 1, 1, 0, 0],\n",
              "        [0, 1, 0, 1, 1, 1, 0, 0],\n",
              "        [0, 0, 0, 1, 1, 1, 0, 0]]),\n",
              " array([1, 1, 0, 0, 1, 0, 1, 0]))"
            ]
          },
          "execution_count": 4,
          "metadata": {},
          "output_type": "execute_result"
        }
      ],
      "source": [
        "X, y"
      ]
    },
    {
      "cell_type": "markdown",
      "id": "8a1009f3-9b74-4cc2-9142-9bbb10499ca7",
      "metadata": {
        "id": "8a1009f3-9b74-4cc2-9142-9bbb10499ca7"
      },
      "source": [
        "After applying Laplace smoothing, we ensure that the parameters do not end up as zero probability estimates."
      ]
    },
    {
      "cell_type": "markdown",
      "metadata": {
        "id": "Eb-9ZSHgW75j"
      },
      "source": [
        "### Characteristics of Naive Bayes Algorithm\n",
        "\n",
        "The Naive Bayes Algorithm is characterized by:\n",
        "1. Class Conditional Independence Assumption: Each feature is assumed to be independent of each other given the class label.\n",
        "2. Bayes Rule: It is used to compute the posterior probability from the prior probability, the likelihood, and the evidence.\n",
        "\n",
        "Based on the first characteristic, we get $\\displaystyle 2d+1$ parameters where $\\displaystyle d$ is the number of dimensions of the feature set."
      ],
      "id": "Eb-9ZSHgW75j"
    },
    {
      "cell_type": "markdown",
      "id": "0e5cc152-b759-4fc8-9181-c106fefc0fea",
      "metadata": {
        "id": "0e5cc152-b759-4fc8-9181-c106fefc0fea"
      },
      "source": [
        "### Parameter Estimation using Maximum Likelihood Estimation (MLE)\n",
        "\n",
        "The estimates of the parameters are given by,\n",
        "\n",
        "$\\displaystyle \\hat{p} =\\displaystyle \\frac{1}{n}\\sum _{i=1}^{n} y_{i}$\n",
        "\n",
        "$\\displaystyle \\hat{p}_{j}^{y} =\\frac{{\\displaystyle \\sum _{i=1}^{n}\\mathbb{1} (f_{j}^{i} =1,y_{i} =y)}}{{\\displaystyle \\sum _{i=1}^{n}\\mathbb{1} (y_{i} =y)}} \\ \\ \\forall j\\in \\{1,2,\\dotsc ,d\\}\\ \\ \\forall y\\in \\{0,1\\}$\n",
        "\n",
        "\n",
        "We can use the following code to calculate the estimate of $\\hat{p}$:"
      ]
    },
    {
      "cell_type": "code",
      "execution_count": null,
      "id": "4127ffd4-8025-4ed3-9b49-2ab6e5bd8eca",
      "metadata": {
        "id": "4127ffd4-8025-4ed3-9b49-2ab6e5bd8eca",
        "outputId": "90d19fbb-c196-4861-ee72-9e7b265242c2"
      },
      "outputs": [
        {
          "data": {
            "text/plain": [
              "0.5"
            ]
          },
          "execution_count": 5,
          "metadata": {},
          "output_type": "execute_result"
        }
      ],
      "source": [
        "p_hat = y.mean()\n",
        "p_hat"
      ]
    },
    {
      "cell_type": "markdown",
      "metadata": {
        "id": "x3li6N1hW75j"
      },
      "source": [
        "We can define a Python function `estimator` to calculate these estimates:"
      ],
      "id": "x3li6N1hW75j"
    },
    {
      "cell_type": "code",
      "execution_count": null,
      "id": "bdfd1ba4-04ab-4683-9f6a-2666693ff46d",
      "metadata": {
        "id": "bdfd1ba4-04ab-4683-9f6a-2666693ff46d"
      },
      "outputs": [],
      "source": [
        "def estimator(X, y, c, d):\n",
        "    return X[d, y == c].mean()"
      ]
    },
    {
      "cell_type": "markdown",
      "metadata": {
        "id": "xPAUd6GaW75j"
      },
      "source": [
        "And we can use this function to compute $\\hat{p}_{j}^{y}$ for all $j$ and $y$:"
      ],
      "id": "xPAUd6GaW75j"
    },
    {
      "cell_type": "code",
      "execution_count": null,
      "id": "7a6c46c2-027e-48a7-baab-7b655874e62f",
      "metadata": {
        "id": "7a6c46c2-027e-48a7-baab-7b655874e62f"
      },
      "outputs": [],
      "source": [
        "p_hat_0_1 = estimator(X, y, 0, 0)\n",
        "p_hat_0_2 = estimator(X, y, 0, 1)\n",
        "p_hat_0_3 = estimator(X, y, 0, 2)\n",
        "p_hat_1_1 = estimator(X, y, 1, 0)\n",
        "p_hat_1_2 = estimator(X, y, 1, 1)\n",
        "p_hat_1_3 = estimator(X, y, 1, 2)"
      ]
    },
    {
      "cell_type": "code",
      "execution_count": null,
      "id": "7eded243-2117-4d51-ae6b-95e250e11dc9",
      "metadata": {
        "id": "7eded243-2117-4d51-ae6b-95e250e11dc9",
        "outputId": "db918721-bfcb-4eaf-df30-9b658894ee8a"
      },
      "outputs": [
        {
          "data": {
            "text/plain": [
              "(0.25, 0.5, 0.5, 0.75, 0.5, 0.25)"
            ]
          },
          "execution_count": 8,
          "metadata": {},
          "output_type": "execute_result"
        }
      ],
      "source": [
        "p_hat_0_1, p_hat_0_2, p_hat_0_3, p_hat_1_1, p_hat_1_2, p_hat_1_3"
      ]
    },
    {
      "cell_type": "markdown",
      "id": "31b1db1a-5d0d-4545-a136-ffa962c16f5c",
      "metadata": {
        "id": "31b1db1a-5d0d-4545-a136-ffa962c16f5c"
      },
      "source": [
        "### Prediction using Naive Bayes\n",
        "\n",
        "We predict $y_{test} =1$ if the following inequality holds:\n",
        "\n",
        "\\begin{equation*}\n",
        "\\left(\\prod _{i=1}^{d} (\\hat{p}_{i}^{1} )^{f_{i}} (1-\\hat{p}_{i}^{1} )^{1-f_{i}}\\right)\\hat{p} \\geq \\left(\\prod _{i=1}^{d} (\\hat{p}_{i}^{0} )^{f_{i}} (1-\\hat{p}_{i}^{0} )^{1-f_{i}}\\right) (1-\\hat{p} )\n",
        "\\end{equation*}\n",
        "\n",
        "Otherwise, we predict $y_{test} =0$.\n",
        "\n",
        "We can implement a Python function `predict_probs` to calculate the probabilities for each class:"
      ]
    },
    {
      "cell_type": "code",
      "execution_count": null,
      "id": "c3a3f953-5816-430c-9387-a80309a38758",
      "metadata": {
        "id": "c3a3f953-5816-430c-9387-a80309a38758"
      },
      "outputs": [],
      "source": [
        "def predict_probs(x, X, y):\n",
        "    d = X.shape[0]\n",
        "    p0, p1 = 1, 1\n",
        "\n",
        "    for i in range(d):\n",
        "        p0 *= (estimator(X, y, 0, i)**(x[i]))*((1-estimator(X, y, 0, i))**(1-(x[i])))\n",
        "        p1 *= (estimator(X, y, 1, i)**(x[i]))*((1-estimator(X, y, 1, i))**(1-(x[i])))\n",
        "\n",
        "    p0 *= p_hat\n",
        "    p1 *= p_hat\n",
        "\n",
        "    return p1, p0"
      ]
    },
    {
      "cell_type": "markdown",
      "metadata": {
        "id": "qAPpFx_8W75k"
      },
      "source": [
        "And then we can use this function to compute the probabilities for each data point in the dataset:"
      ],
      "id": "qAPpFx_8W75k"
    },
    {
      "cell_type": "code",
      "execution_count": null,
      "id": "a28f0015-aa13-411b-a769-a64cad4e3f86",
      "metadata": {
        "id": "a28f0015-aa13-411b-a769-a64cad4e3f86",
        "outputId": "f70a3f8f-f032-4bdd-8587-072579b81137"
      },
      "outputs": [
        {
          "name": "stdout",
          "output_type": "stream",
          "text": [
            "y_0: Probability for Class 1: 0.141;\tProbability for Class 0: 0.031\n",
            "y_1: Probability for Class 1: 0.141;\tProbability for Class 0: 0.031\n",
            "y_2: Probability for Class 1: 0.047;\tProbability for Class 0: 0.094\n",
            "y_3: Probability for Class 1: 0.016;\tProbability for Class 0: 0.094\n",
            "y_4: Probability for Class 1: 0.047;\tProbability for Class 0: 0.031\n",
            "y_5: Probability for Class 1: 0.047;\tProbability for Class 0: 0.031\n",
            "y_6: Probability for Class 1: 0.047;\tProbability for Class 0: 0.094\n",
            "y_7: Probability for Class 1: 0.047;\tProbability for Class 0: 0.094\n"
          ]
        }
      ],
      "source": [
        "for i in range(X.shape[1]):\n",
        "    p1, p0 = predict_probs(X[:, i], X, y)\n",
        "    print(f\"y_{i}: Probability for Class 1: {np.round(p1, 3)};\\tProbability for Class 0: {np.round(p0, 3)}\")"
      ]
    },
    {
      "cell_type": "markdown",
      "id": "431338bf-eb15-4075-b04b-9be6428d4a26",
      "metadata": {
        "id": "431338bf-eb15-4075-b04b-9be6428d4a26"
      },
      "source": [
        "## Gaussian Naive Bayes Algorithm\n",
        "\n",
        "The Gaussian Naive Bayes algorithm extends the Naive Bayes algorithm to continuous data, where the features are assumed to be drawn from a Gaussian distribution.\n",
        "\n",
        "Given a dataset $\\{\\mathbf{x}_{1} ,\\dotsc ,\\mathbf{x}_{n} \\}$ where $\\mathbf{x}_{i} \\in \\mathbb{R}^{d}$, let $\\{y_{1} ,\\dotsc ,y_{n} \\}$ be the labels, where $y_{i} \\in \\{0,1\\}$.\n",
        "\n",
        "Here's a representation of the dataset:\n",
        "\n",
        "\\begin{equation*}\n",
        "\\mathbf{X} =\\begin{bmatrix}\n",
        "-2 & -4 & -3 & -4 & -6 & -5\\\\\n",
        "4 & 4 & 5 & 1 & 1 & 2\n",
        "\\end{bmatrix} \\quad \\mathbf{y} \\ =\\ \\begin{bmatrix}\n",
        "1\\\\\n",
        "1\\\\\n",
        "1\\\\\n",
        "0\\\\\n",
        "0\\\\\n",
        "0\n",
        "\\end{bmatrix}\n",
        "\\end{equation*}"
      ]
    },
    {
      "cell_type": "markdown",
      "metadata": {
        "id": "D-HccPr4W75k"
      },
      "source": [
        "We can represent this dataset in Python as follows:"
      ],
      "id": "D-HccPr4W75k"
    },
    {
      "cell_type": "code",
      "execution_count": null,
      "id": "db742a96-30d1-4646-9376-161735b24e00",
      "metadata": {
        "id": "db742a96-30d1-4646-9376-161735b24e00"
      },
      "outputs": [],
      "source": [
        "X = np.array([[-3,4], [-4,4], [-2,3], [-4,1], [-5,1], [-5,0]])\n",
        "y = np.array([1,1,1,0,0,0])"
      ]
    },
    {
      "cell_type": "code",
      "execution_count": null,
      "id": "2e9e101f-040b-4e2e-b869-20b2ad3b16a3",
      "metadata": {
        "id": "2e9e101f-040b-4e2e-b869-20b2ad3b16a3",
        "outputId": "1fb3b3b1-ec8f-4f8e-b61f-8dff43ea8450"
      },
      "outputs": [
        {
          "data": {
            "text/plain": [
              "(array([[-3, -4, -2, -4, -5, -5],\n",
              "        [ 4,  4,  3,  1,  1,  0]]),\n",
              " array([1, 1, 1, 0, 0, 0]))"
            ]
          },
          "execution_count": 12,
          "metadata": {},
          "output_type": "execute_result"
        }
      ],
      "source": [
        "X.T, y"
      ]
    },
    {
      "cell_type": "markdown",
      "metadata": {
        "id": "BzaDl2v5W75k"
      },
      "source": [
        "### Data Visualization\n",
        "\n",
        "We can visualize the data points using a scatter plot:"
      ],
      "id": "BzaDl2v5W75k"
    },
    {
      "cell_type": "code",
      "execution_count": null,
      "id": "826a9b29-0b12-4a2e-8a83-2b35e12afe06",
      "metadata": {
        "id": "826a9b29-0b12-4a2e-8a83-2b35e12afe06",
        "outputId": "1c09ab77-4bcf-4895-85fc-3ea5c4cc26cf"
      },
      "outputs": [
        {
          "data": {
            "image/png": "[encoded data removed]",
            "text/plain": [
              "<Figure size 640x480 with 1 Axes>"
            ]
          },
          "metadata": {},
          "output_type": "display_data"
        }
      ],
      "source": [
        "import matplotlib.pyplot as plt\n",
        "\n",
        "plt.scatter(X.T[0, y == 1], X.T[1, y == 1], c=\"r\")\n",
        "plt.scatter(X.T[0, y == 0], X.T[1, y == 0], c=\"g\");\n",
        "plt.grid()\n",
        "plt.xlabel('Feature 1')\n",
        "plt.ylabel('Feature 2')\n",
        "plt.axhline(c='k')\n",
        "plt.axvline(c='k');"
      ]
    },
    {
      "cell_type": "markdown",
      "id": "89b168b2-f7b4-4fe3-804b-9b85ae295d33",
      "metadata": {
        "id": "89b168b2-f7b4-4fe3-804b-9b85ae295d33"
      },
      "source": [
        "### Parameter Estimation\n",
        "\n",
        "We assume that the data points are drawn from a Gaussian distribution, i.e., $P(\\mathbf{x}|y=1)\\sim\\mathcal{N}(\\mu_1,\\Sigma_1)$ and $P(\\mathbf{x}|y=0)\\sim\\mathcal{N}(\\mu_0,\\Sigma_0)$. We further assume that the covariances are equal.\n",
        "\n",
        "The parameters to be estimated are $\\hat{p}$, $\\mu_0$, $\\mu_1$, $\\Sigma_0$, and $\\Sigma_1$.\n",
        "\n",
        "Using Maximum Likelihood Estimation, we get the following results:\n",
        "\n",
        "\\begin{align*}\n",
        "\\hat{p}&=\\frac{1}{n}\\sum_{i=1}^ny_i \\\\\n",
        "\\hat{\\mu}_1 &= \\frac{\\displaystyle \\sum_{i=1}^n\\mathbb{1}(y_i=1)*x_i}{\\displaystyle \\sum_{i=1}^n\\mathbb{1}(y_i=1)} \\\\\n",
        "\\hat{\\mu}_0 &= \\frac{\\displaystyle \\sum_{i=1}^n\\mathbb{1}(y_i=0)*x_i}{\\displaystyle \\sum_{i=1}^n\\mathbb{1}(y_i=0)} \\\\\n",
        "\\hat{\\Sigma}_1 &= \\frac{1}{n} \\displaystyle \\sum_{i=1}^n(\\mathbb{1}(y_i=1)*x_i-\\hat{\\mu}_1)(\\mathbb{1}(y_i=1)*x_i-\\hat{\\mu}_1)^T \\\\\n",
        "\\hat{\\Sigma}_0 &= \\frac{1}{n} \\displaystyle \\sum_{i=1}^n(\\mathbb{1}(y_i=0)*x_i-\\hat{\\mu}_0)(\\mathbb{1}(y_i=0)*x_i-\\hat{\\mu}_0)^T\n",
        "\\end{align*}"
      ]
    },
    {
      "cell_type": "markdown",
      "metadata": {
        "id": "OndiZ6jhW75k"
      },
      "source": [
        "### Gaussian Naive Bayes Implementation\n",
        "\n",
        "We can implement the Gaussian Naive Bayes algorithm in Python as follows:"
      ],
      "id": "OndiZ6jhW75k"
    },
    {
      "cell_type": "code",
      "execution_count": null,
      "id": "0be4cbb9-9f97-4cfd-885d-2ebcda7eb2e9",
      "metadata": {
        "id": "0be4cbb9-9f97-4cfd-885d-2ebcda7eb2e9"
      },
      "outputs": [],
      "source": [
        "from scipy.stats import multivariate_normal\n",
        "\n",
        "class GaussianNaiveBayes:\n",
        "    def __init__(self):\n",
        "        self.classes = None\n",
        "        self.class_priors = None\n",
        "        self.class_means = None\n",
        "        self.class_covs = None\n",
        "\n",
        "    def fit(self, X, y):\n",
        "        self.classes = np.unique(y)\n",
        "        n_classes = len(self.classes)\n",
        "        n_features = X.shape[1]\n",
        "\n",
        "        self.class_priors = np.zeros(n_classes)\n",
        "        self.class_means = np.zeros((n_classes, n_features))\n",
        "        self.class_covs = np.zeros((n_classes, n_features, n_features))\n",
        "\n",
        "        for i, c in enumerate(self.classes):\n",
        "            X_c = X[y == c]\n",
        "            self.class_priors[i] = X_c.shape[0] / X.shape[0]\n",
        "            self.class_means[i] = np.mean(X_c, axis=0)\n",
        "            self.class_covs[i] = np.dot((X_c - self.class_means[i]).T, (X_c - self.class_means[i])) / X_c.shape[0]\n",
        "\n",
        "    def predict(self, X):\n",
        "        posteriors = self._calculate_posteriors(X)\n",
        "        return self.classes[np.argmax(posteriors, axis=0)]\n",
        "\n",
        "    def predict_proba(self, X):\n",
        "        posteriors = self._calculate_posteriors(X)\n",
        "        return np.exp(posteriors) / np.sum(np.exp(posteriors), axis=0)\n",
        "\n",
        "    def _calculate_posteriors(self, X):\n",
        "        posteriors = []\n",
        "        for i, c in enumerate(self.classes):\n",
        "            prior = np.log(self.class_priors[i])\n",
        "            likelihood = multivariate_normal.logpdf(X, self.class_means[i], self.class_covs[i])\n",
        "            posterior = prior + likelihood\n",
        "            posteriors.append(posterior)\n",
        "        posteriors = np.array(posteriors)\n",
        "        return posteriors"
      ]
    },
    {
      "cell_type": "markdown",
      "metadata": {
        "id": "3yVQyqMeW75l"
      },
      "source": [
        "We can fit the model to our data:"
      ],
      "id": "3yVQyqMeW75l"
    },
    {
      "cell_type": "code",
      "execution_count": null,
      "id": "9b52d405-b8b4-42c6-9bc0-875c94e1a957",
      "metadata": {
        "id": "9b52d405-b8b4-42c6-9bc0-875c94e1a957"
      },
      "outputs": [],
      "source": [
        "model = GaussianNaiveBayes()\n",
        "model.fit(X, y)"
      ]
    },
    {
      "cell_type": "code",
      "execution_count": null,
      "id": "71cd2a89-75e7-4339-9338-672643659ba0",
      "metadata": {
        "id": "71cd2a89-75e7-4339-9338-672643659ba0",
        "outputId": "ed334ada-c70b-40c1-e47d-2379b5949adc"
      },
      "outputs": [
        {
          "data": {
            "text/plain": [
              "array([[-4.66666667, -3.        ],\n",
              "       [ 0.66666667,  3.66666667]])"
            ]
          },
          "execution_count": 16,
          "metadata": {},
          "output_type": "execute_result"
        }
      ],
      "source": [
        "model.class_means.T"
      ]
    },
    {
      "cell_type": "code",
      "execution_count": null,
      "id": "8dd526b1-f2ad-455e-a416-b03de8493552",
      "metadata": {
        "id": "8dd526b1-f2ad-455e-a416-b03de8493552",
        "outputId": "de795ee8-6134-463c-97d6-28f1a416ec00"
      },
      "outputs": [
        {
          "data": {
            "text/plain": [
              "array([[[ 0.22222222,  0.11111111],\n",
              "        [ 0.11111111,  0.22222222]],\n",
              "\n",
              "       [[ 0.66666667, -0.33333333],\n",
              "        [-0.33333333,  0.22222222]]])"
            ]
          },
          "execution_count": 17,
          "metadata": {},
          "output_type": "execute_result"
        }
      ],
      "source": [
        "model.class_covs"
      ]
    },
    {
      "cell_type": "markdown",
      "id": "cf28f301-a1ca-4c8e-a4f2-f6cf8243e035",
      "metadata": {
        "id": "cf28f301-a1ca-4c8e-a4f2-f6cf8243e035"
      },
      "source": [
        "### Prediction using Gaussian Naive Bayes\n",
        "\n",
        "We predict $y_{i} =1$ if the following inequality holds:\n",
        "\n",
        "\\begin{align*}\n",
        "f(x_{i} ;\\hat{\\mu }_{1} ,\\hat{\\Sigma }_{1} )\\hat{p} & \\geq f(x_{i} ;\\hat{\\mu }_{0} ,\\hat{\\Sigma }_{0} )(1-\\hat{p} )\\\\\n",
        "e^{-(x_{i} -\\hat{\\mu }_{1} )^{T}\\hat{\\Sigma }_{1}^{-1} (x_{i} -\\hat{\\mu }_{1} )}\\hat{p} & \\geq e^{-(x_{i} -\\hat{\\mu }_{0} )^{T}\\hat{\\Sigma }_{0}^{-1} (x_{i} -\\hat{\\mu }_{0} )} (1-\\hat{p} )\\\\\n",
        "-(x_{i} -\\hat{\\mu }_{1} )^{T}\\hat{\\Sigma }_{1}^{-1} (x_{i} -\\hat{\\mu }_{1} )+\\log (\\hat{p} ) & \\geq -(x_{i} -\\hat{\\mu }_{0} )^{T}\\hat{\\Sigma }_{0}^{-1} (x_{i} -\\hat{\\mu }_{0} )+\\log (1-\\hat{p} )\n",
        "\\end{align*}\n",
        "\n",
        "\\begin{equation*}\n",
        "x_{i}^{T}\\left(\\hat{\\Sigma }_{1}^{-1} -\\hat{\\Sigma }_{0}^{-1}\\right) x_{i} -2\\left(\\hat{\\mu }_{1}^{T}\\hat{\\Sigma }_{1}^{-1} -\\hat{\\mu }_{0}^{T}\\hat{\\Sigma }_{0}^{-1}\\right) x_{i} +\\left(\\hat{\\mu }_{0}^{T}\\hat{\\Sigma }_{0}^{-1}\\hat{\\mu }_{0} -\\hat{\\mu }_{1}^{T}\\hat{\\Sigma }_{1}^{-1}\\hat{\\mu }_{1}\\right) +log\\left(\\frac{1-\\hat{p}}{\\hat{p}}\\right) \\geq 0\n",
        "\\end{equation*}\n",
        "\n",
        "We can use the `predict_proba` method of our model to compute the probabilities for each data point in the dataset:"
      ]
    },
    {
      "cell_type": "code",
      "execution_count": null,
      "id": "9fb85b06-8c9a-4b97-afed-2f35a271f0a8",
      "metadata": {
        "scrolled": true,
        "id": "9fb85b06-8c9a-4b97-afed-2f35a271f0a8",
        "outputId": "53044d63-1aaf-4fdc-a5d3-7ba0d8d31261"
      },
      "outputs": [
        {
          "name": "stdout",
          "output_type": "stream",
          "text": [
            "y_0: Probability for Class 1: 1.0;\tProbability for Class 0: 0.0\n",
            "y_1: Probability for Class 1: 1.0;\tProbability for Class 0: 0.0\n",
            "y_2: Probability for Class 1: 1.0;\tProbability for Class 0: 2e-08\n",
            "y_3: Probability for Class 1: 0.0;\tProbability for Class 0: 1.0\n",
            "y_4: Probability for Class 1: 0.0;\tProbability for Class 0: 1.0\n",
            "y_5: Probability for Class 1: 0.0;\tProbability for Class 0: 1.0\n"
          ]
        }
      ],
      "source": [
        "for i in range(X.shape[0]):\n",
        "    p0, p1 = model.predict_proba(X[i].reshape((1,-1))).reshape((-1,))\n",
        "    print(f\"y_{i}: Probability for Class 1: {np.round(p1, 3)};\\tProbability for Class 0: {np.round(p0, 8)}\")"
      ]
    },
    {
      "cell_type": "markdown",
      "metadata": {
        "id": "R9jVtWx5W75l"
      },
      "source": [
        "### Decision Boundary Visualization\n",
        "\n",
        "We can visualize the decision boundary of our model using a contour plot:"
      ],
      "id": "R9jVtWx5W75l"
    },
    {
      "cell_type": "code",
      "execution_count": null,
      "id": "ba4a75a3-c53f-4be2-bb6a-356eda1f9955",
      "metadata": {
        "id": "ba4a75a3-c53f-4be2-bb6a-356eda1f9955"
      },
      "outputs": [],
      "source": [
        "def plot_decision_boundary(model, X, y):\n",
        "    # Define the range of the grid\n",
        "    x_min, x_max = X[:, 0].min() - 1, X[:, 0].max() + 1\n",
        "    y_min, y_max = X[:, 1].min() - 1, X[:, 1].max() + 1\n",
        "    h = 0.02  # step size in the mesh\n",
        "\n",
        "    # Generate a grid of points\n",
        "    xx, yy = np.meshgrid(np.arange(x_min, x_max, h), np.arange(y_min, y_max, h))\n",
        "\n",
        "    # Predict the class for each point in the grid\n",
        "    Z = model.predict(np.c_[xx.ravel(), yy.ravel()])\n",
        "    Z = Z.reshape(xx.shape)\n",
        "\n",
        "    # Create a contour plot\n",
        "    plt.contourf(xx, yy, Z, alpha=0.8)\n",
        "\n",
        "    # Plot the training data points\n",
        "    markers = ['o', 'x', 's', '^', 'v']  # markers for each class\n",
        "    colors = ['r', 'g']\n",
        "    for i, class_label in enumerate(np.unique(y)):\n",
        "        plt.scatter(X[y == class_label, 0], X[y == class_label, 1], marker=markers[i], label=class_label, c=colors[i])\n",
        "\n",
        "    plt.xlabel('Feature 1')\n",
        "    plt.ylabel('Feature 2')\n",
        "    plt.title('Decision Boundary')\n",
        "    plt.legend()\n",
        "    plt.show()"
      ]
    },
    {
      "cell_type": "markdown",
      "metadata": {
        "id": "eI9J42DPW75p"
      },
      "source": [
        "And then we can use this function to plot the decision boundary of our model:"
      ],
      "id": "eI9J42DPW75p"
    },
    {
      "cell_type": "code",
      "execution_count": null,
      "id": "abca9250-ae76-4789-a8be-23ca0e1c15ad",
      "metadata": {
        "id": "abca9250-ae76-4789-a8be-23ca0e1c15ad",
        "outputId": "13420260-60c2-43f9-f8d1-5194c0df457a"
      },
      "outputs": [
        {
          "data": {
            "image/png": "[encoded data removed]",
            "text/plain": [
              "<Figure size 640x480 with 1 Axes>"
            ]
          },
          "metadata": {},
          "output_type": "display_data"
        }
      ],
      "source": [
        "plot_decision_boundary(model, X, y)"
      ]
    },
    {
      "cell_type": "markdown",
      "metadata": {
        "id": "pjv9zXisW75p"
      },
      "source": [
        "## Real World Dataset: Wine Dataset\n",
        "\n",
        "In this section, we will explore the Wine dataset, which is a real-world dataset used for classification tasks. The dataset contains various attributes related to wine samples, and our goal is to classify these samples into two categories: Class 0 and Class 1."
      ],
      "id": "pjv9zXisW75p"
    },
    {
      "cell_type": "markdown",
      "metadata": {
        "id": "ZkBD2LQdW75p"
      },
      "source": [
        "### Dataset Description\n",
        "\n",
        "- Features: The dataset includes several features, but for this analysis, we will focus on two specific attributes: 'proline' and 'hue.' These attributes represent different characteristics of the wine samples.\n",
        "\n",
        "- Labels: The target variable, denoted as 'y,' assigns each sample to one of two classes, Class 0 or Class 1."
      ],
      "id": "ZkBD2LQdW75p"
    },
    {
      "cell_type": "markdown",
      "metadata": {
        "id": "U7KkCFzaW75p"
      },
      "source": [
        "### Data Preprocessing\n",
        "\n",
        "Before using the dataset, we perform some data preprocessing steps to standardize the features. Standardization is a common practice in machine learning to ensure that all features have the same scale. This can improve the performance of our models."
      ],
      "id": "U7KkCFzaW75p"
    },
    {
      "cell_type": "code",
      "execution_count": null,
      "metadata": {
        "id": "y3IH-SWAW75p"
      },
      "outputs": [],
      "source": [
        "from sklearn.datasets import load_wine\n",
        "from sklearn.preprocessing import StandardScaler\n",
        "\n",
        "# Load the Wine dataset\n",
        "X, y = load_wine(return_X_y=True, as_frame=True)\n",
        "\n",
        "# Select samples belonging to Class 0 and Class 1\n",
        "X, y = X[y < 2], y[y < 2]\n",
        "\n",
        "# Choose 'proline' and 'hue' as the features of interest\n",
        "X = X[['proline', 'hue']]\n",
        "\n",
        "# Standardize the features\n",
        "std_scaler = StandardScaler()\n",
        "X = std_scaler.fit_transform(X)"
      ],
      "id": "y3IH-SWAW75p"
    },
    {
      "cell_type": "markdown",
      "metadata": {
        "id": "kHgzhTwDW75p"
      },
      "source": [
        "### Exploratory Data Analysis\n",
        "\n",
        "To gain insights into the dataset, we can visualize the samples based on their features. The following scatter plot represents the wine samples in a 2D space, with 'proline' on the x-axis and 'hue' on the y-axis. Different colors indicate the two classes, making it easier to observe any potential patterns or separations between the classes."
      ],
      "id": "kHgzhTwDW75p"
    },
    {
      "cell_type": "code",
      "execution_count": null,
      "metadata": {
        "id": "WsJdm7bLW75p",
        "outputId": "c52c8515-eeb7-47a2-9241-f85283baf3b1"
      },
      "outputs": [
        {
          "data": {
            "text/plain": [
              "Text(0.5, 1.0, 'Scatter Plot of Wine Dataset')"
            ]
          },
          "execution_count": 22,
          "metadata": {},
          "output_type": "execute_result"
        },
        {
          "data": {
            "image/png": "[encoded data removed]",
            "text/plain": [
              "<Figure size 640x480 with 1 Axes>"
            ]
          },
          "metadata": {},
          "output_type": "display_data"
        }
      ],
      "source": [
        "# Scatter plot to visualize the data\n",
        "plt.scatter(X[:, 0], X[:, 1], c=y)\n",
        "plt.xlabel('Proline')\n",
        "plt.ylabel('Hue')\n",
        "plt.title('Scatter Plot of Wine Dataset')"
      ],
      "id": "WsJdm7bLW75p"
    },
    {
      "cell_type": "markdown",
      "metadata": {
        "id": "2aozZZeTW75p"
      },
      "source": [
        "### Modelling for Wine Dataset\n",
        "\n",
        "Now that we have preprocessed the data and gained some initial insights, we can build a classification model using Gaussian Naive Bayes."
      ],
      "id": "2aozZZeTW75p"
    },
    {
      "cell_type": "code",
      "execution_count": null,
      "metadata": {
        "id": "R3OIEFZuW75q"
      },
      "outputs": [],
      "source": [
        "from scipy.stats import multivariate_normal\n",
        "\n",
        "# Create an instance of the Gaussian Naive Bayes model\n",
        "wine_model = GaussianNaiveBayes()\n",
        "\n",
        "# Fit the model to the preprocessed dataset\n",
        "wine_model.fit(X, y)"
      ],
      "id": "R3OIEFZuW75q"
    },
    {
      "cell_type": "markdown",
      "metadata": {
        "id": "P9bbQRSxW75q"
      },
      "source": [
        "### Decision Boundary\n",
        "\n",
        "To understand how the model separates the two classes, we can visualize the decision boundary. The decision boundary represents the region where the model assigns different class labels. In our case, it shows how the model distinguishes Class 0 from Class 1 based on the 'proline' and 'hue' features."
      ],
      "id": "P9bbQRSxW75q"
    },
    {
      "cell_type": "code",
      "execution_count": null,
      "metadata": {
        "id": "MUxygmt9W75q",
        "outputId": "243694ff-6c2a-4958-a8b6-48f6f5e60742"
      },
      "outputs": [
        {
          "data": {
            "image/png": "[encoded data removed]",
            "text/plain": [
              "<Figure size 640x480 with 1 Axes>"
            ]
          },
          "metadata": {},
          "output_type": "display_data"
        }
      ],
      "source": [
        "# Plot the decision boundary of the Gaussian Naive Bayes model\n",
        "plot_decision_boundary(wine_model, X, y)"
      ],
      "id": "MUxygmt9W75q"
    },
    {
      "cell_type": "markdown",
      "metadata": {
        "id": "ZGQRqEyNW75q"
      },
      "source": [
        "This visualization helps us understand how the model's predictions are made and how it classifies new wine samples based on their 'proline' and 'hue' attributes. It also allows us to see any regions where the model might make uncertain predictions.\n",
        "\n",
        "In summary, the Wine dataset provides a real-world example of applying the Gaussian Naive Bayes algorithm for classification, and visualizations help us understand the model's behavior in a 2D feature space."
      ],
      "id": "ZGQRqEyNW75q"
    }
  ],
  "metadata": {
    "kernelspec": {
      "display_name": "Python 3 (ipykernel)",
      "language": "python",
      "name": "python3"
    },
    "language_info": {
      "codemirror_mode": {
        "name": "ipython",
        "version": 3
      },
      "file_extension": ".py",
      "mimetype": "text/x-python",
      "name": "python",
      "nbconvert_exporter": "python",
      "pygments_lexer": "ipython3",
      "version": "3.11.5"
    },
    "colab": {
      "provenance": [],
      "include_colab_link": true
    }
  },
  "nbformat": 4,
  "nbformat_minor": 5
}