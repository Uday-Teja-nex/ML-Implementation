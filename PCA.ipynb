{
  "nbformat": 4,
  "nbformat_minor": 0,
  "metadata": {
    "colab": {
      "provenance": [],
      "authorship_tag": "ABX9TyM5a9g89kZwInl8/cj+E22t",
      "include_colab_link": true
    },
    "kernelspec": {
      "name": "python3",
      "display_name": "Python 3"
    },
    "language_info": {
      "name": "python"
    }
  },
  "cells": [
    {
      "cell_type": "markdown",
      "metadata": {
        "id": "view-in-github",
        "colab_type": "text"
      },
      "source": [
        "<a href=\"https://colab.research.google.com/github/appleissteve1976/ML-Implementation/blob/main/PCA.ipynb\" target=\"_parent\"><img src=\"https://colab.research.google.com/assets/colab-badge.svg\" alt=\"Open In Colab\"/></a>"
      ]
    },
    {
      "cell_type": "markdown",
      "source": [
        "PCA"
      ],
      "metadata": {
        "id": "yBXFxGMdS24z"
      }
    },
    {
      "cell_type": "code",
      "execution_count": null,
      "metadata": {
        "id": "vkqisE0bOZhP"
      },
      "outputs": [],
      "source": [
        "import numpy as np\n",
        "import matplotlib.pyplot as plt"
      ]
    },
    {
      "cell_type": "code",
      "source": [
        "##### DATASET GENERATION #####\n",
        "from keras.datasets import mnist\n",
        "(X_train, y_train), (X_test, y_test) = mnist.load_data()\n",
        "X = X_train[y_train == 2][: 100].reshape(-1, 28 * 28)\n",
        "test_image = X_test[y_test == 2][0].reshape(28 * 28)\n",
        "##### DO NOT EDIT THIS CELL #####"
      ],
      "metadata": {
        "colab": {
          "base_uri": "https://localhost:8080/"
        },
        "id": "OaTxeC2LZoWl",
        "outputId": "0f8039e5-a226-4660-ef31-4556a6113092"
      },
      "execution_count": null,
      "outputs": [
        {
          "output_type": "stream",
          "name": "stdout",
          "text": [
            "Downloading data from https://storage.googleapis.com/tensorflow/tf-keras-datasets/mnist.npz\n",
            "\u001b[1m11490434/11490434\u001b[0m \u001b[32m━━━━━━━━━━━━━━━━━━━━\u001b[0m\u001b[37m\u001b[0m \u001b[1m1s\u001b[0m 0us/step\n"
          ]
        }
      ]
    },
    {
      "cell_type": "markdown",
      "source": [
        "Data set"
      ],
      "metadata": {
        "id": "SOcKso_73ST-"
      }
    },
    {
      "cell_type": "code",
      "source": [
        "import numpy as np\n",
        "from keras.datasets import mnist\n",
        "(X_train, y_train), (X_test, y_test) = mnist.load_data()\n",
        "X = X_train[y_train == 2][: 100].reshape(-1, 28 * 28)\n",
        "test_image = X_test[y_test == 2][0].reshape(28 * 28)"
      ],
      "metadata": {
        "id": "JtZ-EAEV3TQ1"
      },
      "execution_count": null,
      "outputs": []
    },
    {
      "cell_type": "code",
      "source": [
        "'''\n",
        "samples = X.shape[0]\n",
        "features = X.shape[1]\n",
        "'''"
      ],
      "metadata": {
        "id": "8p9xpuup3ZjI",
        "colab": {
          "base_uri": "https://localhost:8080/",
          "height": 36
        },
        "outputId": "29f8a81a-22c1-4fea-d35f-0f24d70de062"
      },
      "execution_count": null,
      "outputs": [
        {
          "output_type": "execute_result",
          "data": {
            "text/plain": [
              "'\\nsamples = X.shape[0]\\nfeatures = X.shape[1]\\n'"
            ],
            "application/vnd.google.colaboratory.intrinsic+json": {
              "type": "string"
            }
          },
          "metadata": {},
          "execution_count": 4
        }
      ]
    },
    {
      "cell_type": "code",
      "source": [
        "import matplotlib.pyplot as plt\n",
        "img = X[0].reshape(28, 28)\n",
        "plt.imshow(img, cmap = 'gray');"
      ],
      "metadata": {
        "colab": {
          "base_uri": "https://localhost:8080/",
          "height": 430
        },
        "id": "dhT-ajrS3i_S",
        "outputId": "b53b9d91-afd6-453e-8cb8-769c67723e90"
      },
      "execution_count": null,
      "outputs": [
        {
          "output_type": "display_data",
          "data": {
            "text/plain": [
              "<Figure size 640x480 with 1 Axes>"
            ],
            "image/png": "[encoded data removed]"
          },
          "metadata": {}
        }
      ]
    },
    {
      "cell_type": "markdown",
      "source": [
        "centering the data"
      ],
      "metadata": {
        "id": "1tI0Ciz-3z5t"
      }
    },
    {
      "cell_type": "code",
      "source": [
        "def center(X):\n",
        "    return X - X.mean(axis = 0)\n",
        "\n",
        "n, d = X.shape\n",
        "X_prime = center(X)\n",
        "print(np.sqrt((X_prime ** 2).sum()) / (n * d))"
      ],
      "metadata": {
        "colab": {
          "base_uri": "https://localhost:8080/"
        },
        "id": "k5OvM8T_3ueB",
        "outputId": "29d563dc-f049-42d0-8934-3bc396a3bd9c"
      },
      "execution_count": null,
      "outputs": [
        {
          "output_type": "stream",
          "name": "stdout",
          "text": [
            "0.23242174456564685\n"
          ]
        }
      ]
    },
    {
      "cell_type": "markdown",
      "source": [
        "Covariance"
      ],
      "metadata": {
        "id": "jvn79aXK36sE"
      }
    },
    {
      "cell_type": "code",
      "source": [
        "def covariance(X):\n",
        "    return X.T @ X / X.shape[0]\n",
        "\n",
        "C = covariance(X_prime)\n",
        "d = C.shape[0]\n",
        "print(np.sqrt((C ** 2).sum()) / d ** 2)"
      ],
      "metadata": {
        "colab": {
          "base_uri": "https://localhost:8080/"
        },
        "id": "IBNdhDwL32Ih",
        "outputId": "8a2b008a-447a-42fd-fb30-612f529d6791"
      },
      "execution_count": null,
      "outputs": [
        {
          "output_type": "stream",
          "name": "stdout",
          "text": [
            "1.3648061009232249\n"
          ]
        }
      ]
    },
    {
      "cell_type": "code",
      "source": [
        "def compute_pc(C):\n",
        "    d = C.shape[0]\n",
        "    eigval, eigvec = np.linalg.eigh(C)\n",
        "    w_1, w_2 = eigvec[:, -1], eigvec[:, -2]\n",
        "    assert w_1.shape[0] == w_2.shape[0] == d\n",
        "    return w_1, w_2\n",
        "\n",
        "w_1, w_2 = compute_pc(C)\n",
        "w = w_1 + w_2\n",
        "print(abs(w.sum()))"
      ],
      "metadata": {
        "colab": {
          "base_uri": "https://localhost:8080/"
        },
        "id": "9LBNZZ8f37tW",
        "outputId": "8168f287-4186-446d-be15-087685298a78"
      },
      "execution_count": null,
      "outputs": [
        {
          "output_type": "stream",
          "name": "stdout",
          "text": [
            "1.051624388059819\n"
          ]
        }
      ]
    },
    {
      "cell_type": "code",
      "source": [
        "w_1_image = w_1.reshape(28, 28)\n",
        "plt.imshow(w_1_image, cmap = 'gray')"
      ],
      "metadata": {
        "colab": {
          "base_uri": "https://localhost:8080/",
          "height": 448
        },
        "id": "36eJqPTg4E-o",
        "outputId": "3b9f2dbb-ce54-4162-9aaf-134b377718d3"
      },
      "execution_count": null,
      "outputs": [
        {
          "output_type": "execute_result",
          "data": {
            "text/plain": [
              "<matplotlib.image.AxesImage at 0x7fa3ba4425c0>"
            ]
          },
          "metadata": {},
          "execution_count": 11
        },
        {
          "output_type": "display_data",
          "data": {
            "text/plain": [
              "<Figure size 640x480 with 1 Axes>"
            ],
            "image/png": "[encoded data removed]"
          },
          "metadata": {}
        }
      ]
    },
    {
      "cell_type": "markdown",
      "source": [
        "Choose K principal components for maximum variance (95%)"
      ],
      "metadata": {
        "id": "41Np75P04Ndw"
      }
    },
    {
      "cell_type": "code",
      "source": [
        "def choose_k(C):\n",
        "    eigval, eigvec = np.linalg.eigh(C)\n",
        "    eigval = list(reversed(eigval))\n",
        "    tot = sum(eigval)\n",
        "    for k in range(len(eigval)):\n",
        "        if sum(eigval[: k + 1]) / tot >= 0.95:\n",
        "            return k + 1\n",
        "    return len(eigval)\n",
        "\n",
        "print(choose_k(C))"
      ],
      "metadata": {
        "colab": {
          "base_uri": "https://localhost:8080/"
        },
        "id": "j2xISDrH4IZE",
        "outputId": "7aa5c188-f98a-4648-f042-72f389d90f1a"
      },
      "execution_count": null,
      "outputs": [
        {
          "output_type": "stream",
          "name": "stdout",
          "text": [
            "53\n"
          ]
        }
      ]
    },
    {
      "cell_type": "markdown",
      "source": [
        "difference variance for a test image"
      ],
      "metadata": {
        "id": "PYQgjTbL4cIM"
      }
    },
    {
      "cell_type": "code",
      "source": [
        "# Solution\n",
        "def reconstruct(C, test_image, thresh):\n",
        "    eigval, eigvec = np.linalg.eigh(C)\n",
        "    eigval = list(reversed(eigval))\n",
        "    tot = sum(eigval)\n",
        "    K = len(eigval)\n",
        "    for k in range(len(eigval)):\n",
        "        if sum(eigval[: k + 1]) / tot >= thresh:\n",
        "            K = k + 1\n",
        "            break\n",
        "    W = eigvec[:, -K: ]\n",
        "    coeff = test_image @ W\n",
        "    return W @ coeff\n",
        "\n",
        "# Original mean subtracted image\n",
        "test_image = np.float64(test_image) - X.mean(axis = 0)\n",
        "plt.subplot(1, 5, 1)\n",
        "plt.imshow(test_image.reshape(28, 28), cmap = 'gray')\n",
        "# 0.20\n",
        "recon_image = reconstruct(C, test_image, 0.20)\n",
        "plt.subplot(1, 5, 2)\n",
        "plt.imshow(recon_image.reshape(28, 28), cmap = 'gray')\n",
        "# 0.5\n",
        "recon_image = reconstruct(C, test_image, 0.50)\n",
        "plt.subplot(1, 5, 3)\n",
        "plt.imshow(recon_image.reshape(28, 28), cmap = 'gray')\n",
        "# 0.80\n",
        "recon_image = reconstruct(C, test_image, 0.80)\n",
        "plt.subplot(1, 5, 4)\n",
        "plt.imshow(recon_image.reshape(28, 28), cmap = 'gray')\n",
        "# 0.95\n",
        "plt.subplot(1, 5, 5)\n",
        "recon_image = reconstruct(C, test_image, 0.95)\n",
        "plt.imshow(recon_image.reshape(28, 28), cmap = 'gray')"
      ],
      "metadata": {
        "colab": {
          "base_uri": "https://localhost:8080/",
          "height": 167
        },
        "id": "BEcBzMkA4Unh",
        "outputId": "0e49ec69-226e-497c-f967-a92235557f83"
      },
      "execution_count": null,
      "outputs": [
        {
          "output_type": "execute_result",
          "data": {
            "text/plain": [
              "<matplotlib.image.AxesImage at 0x7b980b52bd60>"
            ]
          },
          "metadata": {},
          "execution_count": 9
        },
        {
          "output_type": "display_data",
          "data": {
            "text/plain": [
              "<Figure size 640x480 with 5 Axes>"
            ],
            "image/png": "[encoded data removed]"
          },
          "metadata": {}
        }
      ]
    },
    {
      "cell_type": "code",
      "source": [],
      "metadata": {
        "id": "Mo7xKq4h4fgR"
      },
      "execution_count": null,
      "outputs": []
    }
  ]
}